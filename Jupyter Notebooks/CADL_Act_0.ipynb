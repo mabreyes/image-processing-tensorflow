{
 "cells": [
  {
   "cell_type": "markdown",
   "metadata": {},
   "source": [
    "### Download image dataset"
   ]
  },
  {
   "cell_type": "code",
   "execution_count": null,
   "metadata": {
    "collapsed": false
   },
   "outputs": [],
   "source": [
    "import os\n",
    "import urllib.request\n",
    "import ssl\n",
    "\n",
    "# \n",
    "ssl._create_default_https_context = ssl._create_unverified_context\n",
    "\n",
    "# Create a directory named 'img_align_celeba'\n",
    "os.mkdir('img_align_celeba')\n",
    "\n",
    "# Loop for downloading ten (10) images from the dataset\n",
    "for img_i in range(1,11):\n",
    "    f = '000%03d.jpg' % img_i\n",
    "    url = 'https://s3.amazonaws.com/cadl/celeb-align/' + f\n",
    "    print(url, end='\\r')\n",
    "    urllib.request.urlretrieve(url, os.path.join('img_align_celeba', f))"
   ]
  },
  {
   "cell_type": "code",
   "execution_count": null,
   "metadata": {
    "collapsed": false
   },
   "outputs": [],
   "source": [
    "# Show how os.listdir works. os.listdir? also works\n",
    "help(os.listdir)"
   ]
  },
  {
   "cell_type": "markdown",
   "metadata": {},
   "source": [
    "### Turn directory list into an array with exceptions"
   ]
  },
  {
   "cell_type": "code",
   "execution_count": null,
   "metadata": {
    "collapsed": false
   },
   "outputs": [],
   "source": [
    "# Turn the img_align_celeba directory with its files inside into an array\n",
    "files = [os.path.join('img_align_celeba', file_i) \n",
    "         for file_i in os.listdir('img_align_celeba')\n",
    "         if '.jpg' in file_i]\n",
    "\n",
    "# Show the values of files[1]\n",
    "print(files[1])"
   ]
  },
  {
   "cell_type": "markdown",
   "metadata": {},
   "source": [
    "### Loading an image\n",
    "Image can be represented by an array of numbers"
   ]
  },
  {
   "cell_type": "code",
   "execution_count": null,
   "metadata": {
    "collapsed": false
   },
   "outputs": [],
   "source": [
    "import matplotlib.pyplot as plt\n",
    "\n",
    "# This is not a Python script, what it does is that it shows that diagram shown by matplotlib.pyplot in the notebook and\n",
    "# not to launch a new window\n",
    "%matplotlib inline\n",
    "\n",
    "import numpy as np\n",
    "\n",
    "# The function of plt.imread is to read an image from a file into an array.\n",
    "# os.path.join('main_directory', relative_file)\n",
    "# print(os.path.join('img_align_celeba', files[0]))\n",
    "# plt.imread(os.path.join('img_align_celeba', files[0]))\n",
    "print(files[0])\n",
    "img = plt.imread(files[0])\n",
    "print(img)"
   ]
  },
  {
   "cell_type": "markdown",
   "metadata": {},
   "source": [
    "### Image RGB representation"
   ]
  },
  {
   "cell_type": "code",
   "execution_count": null,
   "metadata": {
    "collapsed": false
   },
   "outputs": [],
   "source": [
    "img = plt.imread(files[0])\n",
    "plt.imshow(img)\n",
    "\n",
    "# Show each channels (r = 0, g = 1, b = 2) [row, column, channel]\n",
    "plt.figure()\n",
    "plt.imshow(img[:, :, 0])\n",
    "plt.figure()\n",
    "plt.imshow(img[:, :, 1])\n",
    "plt.figure()\n",
    "plt.imshow(img[:, :, 2])\n",
    "\n",
    "# img.shape has this output (a, b, c) where is the # of rows; b is the # of columns; c is the # of channels (rgb)\n",
    "img.shape\n",
    "img.dtype\n",
    "\n",
    "# We assign 32-bit to correct the uint8 original dtype of the img. 32-bit is required when working with neural networks\n",
    "img.astype(np.float32) "
   ]
  },
  {
   "cell_type": "markdown",
   "metadata": {},
   "source": [
    "### Randomly pick an image from the dataset and analyze"
   ]
  },
  {
   "cell_type": "code",
   "execution_count": null,
   "metadata": {
    "collapsed": false
   },
   "outputs": [],
   "source": [
    "# Use np.random.randint to randomize selection from files\n",
    "# filename = files[np.random.randint(0, len(files))]\n",
    "# img = plt.imread(filename)\n",
    "# plt.imshow(img)\n",
    "\n",
    "# However, we can also create a function to select from files which can be used later\n",
    "def plot_image(filename):\n",
    "   img = plt.imread(filename)\n",
    "   plt.imshow(img)\n",
    "\n",
    "# We then use this as an example to call the function\n",
    "f = files[np.random.randint(0, len(files))]\n",
    "plot_image(f)\n",
    "# We also can use plot_image(files[np.random.randint(0, len(files))])"
   ]
  },
  {
   "cell_type": "code",
   "execution_count": null,
   "metadata": {
    "collapsed": true
   },
   "outputs": [],
   "source": []
  }
 ],
 "metadata": {
  "kernelspec": {
   "display_name": "Python 3",
   "language": "python",
   "name": "python3"
  },
  "language_info": {
   "codemirror_mode": {
    "name": "ipython",
    "version": 3
   },
   "file_extension": ".py",
   "mimetype": "text/x-python",
   "name": "python",
   "nbconvert_exporter": "python",
   "pygments_lexer": "ipython3",
   "version": "3.6.0"
  }
 },
 "nbformat": 4,
 "nbformat_minor": 2
}
